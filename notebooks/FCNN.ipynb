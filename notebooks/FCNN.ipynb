{
 "cells": [
  {
   "cell_type": "code",
   "execution_count": 3,
   "metadata": {},
   "outputs": [],
   "source": [
    "# tensorflow imports\n",
    "from tensorflow.keras.layers import Conv2D, BatchNormalization, Dropout, MaxPooling2D, Dense, Input, Activation, AveragePooling2D, Flatten, ZeroPadding2D\n",
    "from tensorflow.keras.layers import Conv1D, MaxPooling1D, GlobalAvgPool1D, AveragePooling1D\n",
    "from tensorflow.keras.models import Model\n",
    "from tensorflow.keras.initializers import RandomNormal, GlorotNormal, he_normal\n",
    "from tensorflow.keras.utils import plot_model\n",
    "from scipy.ndimage.interpolation import rotate\n",
    "from scipy import signal\n",
    "from tensorflow.keras.callbacks import ModelCheckpoint\n",
    "from tensorflow.keras.callbacks import EarlyStopping\n",
    "import tensorflow as tf\n",
    "from tensorflow.keras import models, layers\n",
    "from tensorflow.keras.optimizers import RMSprop\n",
    "from tensorflow.keras.preprocessing import image\n",
    "from tensorflow.keras.callbacks import CSVLogger\n",
    "\n",
    "from tqdm import tqdm\n",
    "import numpy as np\n",
    "import os\n",
    "import pywt\n",
    "from matplotlib import pyplot as plt\n",
    "from pywt._doc_utils import wavedec2_keys, draw_2d_wp_basis\n",
    "import datetime\n",
    "import warnings\n",
    "warnings.filterwarnings(\"ignore\")"
   ]
  },
  {
   "cell_type": "code",
   "execution_count": 4,
   "metadata": {},
   "outputs": [
    {
     "name": "stdout",
     "output_type": "stream",
     "text": [
      "Model: \"model\"\n",
      "_________________________________________________________________\n",
      "Layer (type)                 Output Shape              Param #   \n",
      "=================================================================\n",
      "input_2 (InputLayer)         [(None, 1050, 1)]         0         \n",
      "_________________________________________________________________\n",
      "conv1 (Conv1D)               (None, 1044, 100)         800       \n",
      "_________________________________________________________________\n",
      "batch_normalization (BatchNo (None, 1044, 100)         400       \n",
      "_________________________________________________________________\n",
      "activation (Activation)      (None, 1044, 100)         0         \n",
      "_________________________________________________________________\n",
      "max_pooling1d (MaxPooling1D) (None, 522, 100)          0         \n",
      "_________________________________________________________________\n",
      "conv2 (Conv1D)               (None, 520, 100)          30100     \n",
      "_________________________________________________________________\n",
      "batch_normalization_1 (Batch (None, 520, 100)          400       \n",
      "_________________________________________________________________\n",
      "activation_1 (Activation)    (None, 520, 100)          0         \n",
      "_________________________________________________________________\n",
      "average_pooling1d (AveragePo (None, 260, 100)          0         \n",
      "_________________________________________________________________\n",
      "flatten (Flatten)            (None, 26000)             0         \n",
      "_________________________________________________________________\n",
      "dense (Dense)                (None, 256)               6656256   \n",
      "_________________________________________________________________\n",
      "ouput (Dense)                (None, 1)                 257       \n",
      "=================================================================\n",
      "Total params: 6,688,213\n",
      "Trainable params: 6,687,813\n",
      "Non-trainable params: 400\n",
      "_________________________________________________________________\n"
     ]
    }
   ],
   "source": [
    "# tensorflow model\n",
    "Inp = Input(shape = (1050, 1))\n",
    "x = Conv1D(100, 7,kernel_initializer=he_normal(seed=20), name='conv1')(Inp)\n",
    "x = BatchNormalization()(x)\n",
    "x = Activation('relu')(x)\n",
    "x = MaxPooling1D((2), strides=2)(x)\n",
    "\n",
    "x = Conv1D(100, 3, kernel_initializer=he_normal(seed=20), name='conv2')(x)\n",
    "x = BatchNormalization()(x)\n",
    "x = Activation('relu')(x)\n",
    "x = AveragePooling1D()(x)\n",
    "\n",
    "x = Flatten()(x)\n",
    "x = Dense(256, activation='relu',kernel_initializer=he_normal(seed=20))(x)\n",
    "out = Dense(1, activation = 'sigmoid',kernel_initializer=he_normal(seed=20), name = 'ouput')(x)\n",
    "\n",
    "model = Model(inputs = Inp, outputs = out)\n",
    "model.summary()"
   ]
  },
  {
   "cell_type": "code",
   "execution_count": null,
   "metadata": {},
   "outputs": [],
   "source": []
  }
 ],
 "metadata": {
  "kernelspec": {
   "display_name": "Python 3",
   "language": "python",
   "name": "python3"
  },
  "language_info": {
   "codemirror_mode": {
    "name": "ipython",
    "version": 3
   },
   "file_extension": ".py",
   "mimetype": "text/x-python",
   "name": "python",
   "nbconvert_exporter": "python",
   "pygments_lexer": "ipython3",
   "version": "3.7.7"
  }
 },
 "nbformat": 4,
 "nbformat_minor": 4
}
